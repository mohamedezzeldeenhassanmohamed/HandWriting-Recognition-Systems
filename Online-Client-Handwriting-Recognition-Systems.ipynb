{
 "cells": [
  {
   "cell_type": "code",
   "execution_count": null,
   "id": "a7d48761",
   "metadata": {},
   "outputs": [],
   "source": [
    "def convertImageToText(url):\n",
    "    \n",
    "    import socket\n",
    "    \n",
    "    # create a socket object \n",
    "    \n",
    "    s = socket.socket(socket.AF_INET, socket.SOCK_STREAM)\n",
    "\n",
    "    # get local machine name   \n",
    "    \n",
    "    host = '192.168.1.10'    \n",
    "    \n",
    "    port = 9999    \n",
    "    \n",
    "    # connection to hostname on the port.    \n",
    "    \n",
    "    s.connect((host, port))\n",
    "\n",
    "    # send a message to the server   \n",
    "    \n",
    "    message = url\n",
    "    \n",
    "    s.send(message.encode('utf-8'))\n",
    "\n",
    "    # receive data from the server   \n",
    "    \n",
    "    data = s.recv(1024).decode('utf-8')\n",
    "\n",
    "    # close the connection    \n",
    "    \n",
    "    s.close()\n",
    "\n",
    "    return data"
   ]
  }
 ],
 "metadata": {
  "kernelspec": {
   "display_name": "Python 3 (ipykernel)",
   "language": "python",
   "name": "python3"
  },
  "language_info": {
   "codemirror_mode": {
    "name": "ipython",
    "version": 3
   },
   "file_extension": ".py",
   "mimetype": "text/x-python",
   "name": "python",
   "nbconvert_exporter": "python",
   "pygments_lexer": "ipython3",
   "version": "3.9.15"
  }
 },
 "nbformat": 4,
 "nbformat_minor": 5
}
